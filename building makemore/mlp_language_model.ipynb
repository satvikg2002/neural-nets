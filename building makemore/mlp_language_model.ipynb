{
 "cells": [
  {
   "cell_type": "markdown",
   "metadata": {},
   "source": [
    "# Adding Layers to the NN"
   ]
  },
  {
   "cell_type": "markdown",
   "metadata": {},
   "source": [
    "Ref Paper : https://www.jmlr.org/papers/volume3/bengio03a/bengio03a.pdf     \n",
    "Ref Notebook : https://github.com/karpathy/nn-zero-to-hero/blob/master/lectures/makemore/makemore_part2_mlp.ipynb\n"
   ]
  },
  {
   "cell_type": "code",
   "execution_count": 309,
   "metadata": {},
   "outputs": [],
   "source": [
    "import torch\n",
    "import torch.nn.functional as F\n",
    "import matplotlib.pyplot as plt # for making figures\n",
    "%matplotlib inline"
   ]
  },
  {
   "cell_type": "code",
   "execution_count": 310,
   "metadata": {},
   "outputs": [
    {
     "data": {
      "text/plain": [
       "['emma', 'olivia', 'ava', 'isabella', 'sophia', 'charlotte', 'mia', 'amelia']"
      ]
     },
     "execution_count": 310,
     "metadata": {},
     "output_type": "execute_result"
    }
   ],
   "source": [
    "words = open('names.txt', 'r').read().splitlines()\n",
    "words[:8]"
   ]
  },
  {
   "cell_type": "code",
   "execution_count": 311,
   "metadata": {},
   "outputs": [
    {
     "data": {
      "text/plain": [
       "32033"
      ]
     },
     "execution_count": 311,
     "metadata": {},
     "output_type": "execute_result"
    }
   ],
   "source": [
    "len(words)"
   ]
  },
  {
   "cell_type": "code",
   "execution_count": 312,
   "metadata": {},
   "outputs": [
    {
     "name": "stdout",
     "output_type": "stream",
     "text": [
      "{1: 'a', 2: 'b', 3: 'c', 4: 'd', 5: 'e', 6: 'f', 7: 'g', 8: 'h', 9: 'i', 10: 'j', 11: 'k', 12: 'l', 13: 'm', 14: 'n', 15: 'o', 16: 'p', 17: 'q', 18: 'r', 19: 's', 20: 't', 21: 'u', 22: 'v', 23: 'w', 24: 'x', 25: 'y', 26: 'z', 0: '.'}\n"
     ]
    }
   ],
   "source": [
    "# build the vocabulary of characters and mappings to/from integers\n",
    "chars = sorted(list(set(''.join(words))))\n",
    "stoi = {s:i+1 for i,s in enumerate(chars)}\n",
    "stoi['.'] = 0\n",
    "itos = {i:s for s,i in stoi.items()}\n",
    "print(itos)"
   ]
  },
  {
   "cell_type": "code",
   "execution_count": 313,
   "metadata": {},
   "outputs": [
    {
     "name": "stdout",
     "output_type": "stream",
     "text": [
      "... ---> e\n",
      "..e ---> m\n",
      ".em ---> m\n",
      "emm ---> a\n",
      "mma ---> .\n",
      "... ---> o\n",
      "..o ---> l\n",
      ".ol ---> i\n",
      "oli ---> v\n",
      "liv ---> i\n",
      "ivi ---> a\n",
      "via ---> .\n",
      "... ---> a\n",
      "..a ---> v\n",
      ".av ---> a\n",
      "ava ---> .\n",
      "... ---> i\n",
      "..i ---> s\n",
      ".is ---> a\n",
      "isa ---> b\n",
      "sab ---> e\n",
      "abe ---> l\n",
      "bel ---> l\n",
      "ell ---> a\n",
      "lla ---> .\n",
      "... ---> s\n",
      "..s ---> o\n",
      ".so ---> p\n",
      "sop ---> h\n",
      "oph ---> i\n",
      "phi ---> a\n",
      "hia ---> .\n"
     ]
    }
   ],
   "source": [
    "# build the dataset\n",
    "\n",
    "block_size = 3 # context length: how many characters do we take to predict the next one?\n",
    "X, Y = [], []\n",
    "for w in words[:5]:\n",
    "  \n",
    "  #print(w)\n",
    "  context = [0] * block_size\n",
    "  for ch in w + '.':\n",
    "    ix = stoi[ch]\n",
    "    X.append(context)\n",
    "    Y.append(ix)\n",
    "    print(''.join(itos[i] for i in context), '--->', itos[ix])\n",
    "    context = context[1:] + [ix] # crop and append\n",
    "  \n",
    "X = torch.tensor(X)\n",
    "Y = torch.tensor(Y)"
   ]
  },
  {
   "cell_type": "code",
   "execution_count": 314,
   "metadata": {},
   "outputs": [
    {
     "data": {
      "text/plain": [
       "(torch.Size([32, 3]), torch.int64, torch.Size([32]), torch.int64)"
      ]
     },
     "execution_count": 314,
     "metadata": {},
     "output_type": "execute_result"
    }
   ],
   "source": [
    "X.shape, X.dtype, Y.shape, Y.dtype"
   ]
  },
  {
   "cell_type": "code",
   "execution_count": 315,
   "metadata": {},
   "outputs": [],
   "source": [
    "C = torch.randn((27,2))  # 27 chars in a 2d space"
   ]
  },
  {
   "cell_type": "code",
   "execution_count": 316,
   "metadata": {},
   "outputs": [
    {
     "name": "stdout",
     "output_type": "stream",
     "text": [
      "tensor([-0.7919,  1.8644])\n"
     ]
    },
    {
     "data": {
      "text/plain": [
       "tensor([-0.7919,  1.8644])"
      ]
     },
     "execution_count": 316,
     "metadata": {},
     "output_type": "execute_result"
    }
   ],
   "source": [
    "print(C[5])\n",
    "F.one_hot(torch.tensor(5), num_classes=27).float() @ C"
   ]
  },
  {
   "cell_type": "code",
   "execution_count": 317,
   "metadata": {},
   "outputs": [
    {
     "data": {
      "text/plain": [
       "tensor(0)"
      ]
     },
     "execution_count": 317,
     "metadata": {},
     "output_type": "execute_result"
    }
   ],
   "source": [
    "X[13,1]"
   ]
  },
  {
   "cell_type": "code",
   "execution_count": 318,
   "metadata": {},
   "outputs": [
    {
     "name": "stdout",
     "output_type": "stream",
     "text": [
      "tensor([-0.7216, -0.3531])\n"
     ]
    },
    {
     "data": {
      "text/plain": [
       "tensor([-0.7216, -0.3531])"
      ]
     },
     "execution_count": 318,
     "metadata": {},
     "output_type": "execute_result"
    }
   ],
   "source": [
    "print(C[X[13,1]])\n",
    "C[0]"
   ]
  },
  {
   "cell_type": "code",
   "execution_count": 319,
   "metadata": {},
   "outputs": [
    {
     "data": {
      "text/plain": [
       "torch.Size([32, 3, 2])"
      ]
     },
     "execution_count": 319,
     "metadata": {},
     "output_type": "execute_result"
    }
   ],
   "source": [
    "emb = C[X]  # creating embeddings\n",
    "emb.shape"
   ]
  },
  {
   "cell_type": "code",
   "execution_count": 320,
   "metadata": {},
   "outputs": [],
   "source": [
    "W1 = torch.randn((6, 100))\n",
    "b1 = torch.randn(100)"
   ]
  },
  {
   "cell_type": "code",
   "execution_count": 321,
   "metadata": {},
   "outputs": [
    {
     "data": {
      "text/plain": [
       "torch.Size([32, 6])"
      ]
     },
     "execution_count": 321,
     "metadata": {},
     "output_type": "execute_result"
    }
   ],
   "source": [
    "# adjusting shape \n",
    "torch.cat(torch.unbind(emb, 1), 1).shape"
   ]
  },
  {
   "cell_type": "code",
   "execution_count": 322,
   "metadata": {},
   "outputs": [
    {
     "data": {
      "text/plain": [
       "torch.Size([32, 100])"
      ]
     },
     "execution_count": 322,
     "metadata": {},
     "output_type": "execute_result"
    }
   ],
   "source": [
    "h = emb.view(-1, 6) @ W1 + b1  # using view since it is computationally efficient\n",
    "h.shape"
   ]
  },
  {
   "cell_type": "code",
   "execution_count": 323,
   "metadata": {},
   "outputs": [
    {
     "data": {
      "text/plain": [
       "tensor([[-1.2798, -1.5979, -0.1103,  ..., -4.1669,  0.7062, -0.8423],\n",
       "        [ 4.0016, -1.4160, -3.4617,  ..., -2.0814,  1.2374, -1.6548],\n",
       "        [-3.5041, -2.7999, -1.3570,  ..., -7.1071, -0.6213, -1.5718],\n",
       "        ...,\n",
       "        [ 2.8067, -1.3523,  0.4762,  ..., -0.1809, -0.7383, -2.1114],\n",
       "        [ 0.4733,  0.1376, -1.4643,  ..., -1.7114, -0.5747, -1.7289],\n",
       "        [-2.6487,  0.8282,  3.1333,  ..., -1.3069,  0.5529,  1.7674]])"
      ]
     },
     "execution_count": 323,
     "metadata": {},
     "output_type": "execute_result"
    }
   ],
   "source": [
    "h"
   ]
  },
  {
   "cell_type": "code",
   "execution_count": 324,
   "metadata": {},
   "outputs": [],
   "source": [
    "W2 = torch.randn((100, 27))\n",
    "b2 = torch.randn(27)"
   ]
  },
  {
   "cell_type": "code",
   "execution_count": 325,
   "metadata": {},
   "outputs": [
    {
     "data": {
      "text/plain": [
       "tensor([[-1.2273e+01, -2.4379e+01,  1.4189e+01,  1.0376e+01,  1.6020e+01,\n",
       "         -7.1806e+00,  2.5619e+00,  1.0932e+01,  1.5026e+01,  9.2957e+00,\n",
       "          1.1429e+00, -4.0797e+01,  1.2766e+00,  6.2147e+00,  8.6650e+00,\n",
       "          2.2356e+01, -2.1226e+00, -1.5477e+00, -2.0353e+01, -7.3595e+00,\n",
       "         -1.1291e+01, -2.1818e+00, -2.9229e+01,  1.3310e+01,  8.3234e+00,\n",
       "         -1.5094e+00,  6.1412e+00],\n",
       "        [-1.5664e+01, -6.1870e+00,  3.0437e+01,  1.6235e+00,  3.5998e+01,\n",
       "          1.6249e+01,  1.5579e+01, -6.2884e+00,  1.4070e+01,  3.7550e+01,\n",
       "          3.3714e-01, -3.7029e+01,  1.7157e+01,  1.1991e+01,  4.4583e+00,\n",
       "         -3.9947e+00, -2.5317e+01,  1.6899e+01,  2.8875e+01,  1.6872e+00,\n",
       "         -2.0689e+01, -1.9769e+01,  1.0808e+01,  1.3086e+01,  1.8901e+01,\n",
       "          1.0434e+01,  1.9255e+01],\n",
       "        [-4.4494e+01, -1.1810e+01, -2.2965e+01, -2.1461e+01, -2.0974e+01,\n",
       "         -4.5086e+01, -1.1723e+01,  1.1009e+01,  2.8983e+01, -2.2265e-01,\n",
       "          7.5749e+00, -5.4222e+01,  4.9038e+01,  1.0479e+01,  8.9693e+00,\n",
       "          1.8073e+01,  3.2015e+01, -2.9714e+01, -6.6367e+01, -3.1135e+01,\n",
       "         -3.0079e+00, -4.5666e+00, -8.4273e+01, -1.7430e+01, -8.0265e+00,\n",
       "         -2.1757e+01,  2.9640e+01],\n",
       "        [ 1.9349e+01, -6.8287e+00,  3.1947e+01, -6.0886e+00,  5.6624e+00,\n",
       "          1.9296e+00, -1.9757e+01,  1.7610e+01,  1.6413e+01, -6.4975e-01,\n",
       "         -2.6138e+01, -2.4012e+01,  7.2678e-01, -8.2286e+00,  6.7443e+01,\n",
       "          3.3760e+01, -1.9298e+01, -5.1944e+01, -9.3174e+01, -4.2956e+01,\n",
       "         -1.3751e+01,  1.1286e+01, -1.8080e+01,  5.5239e+01,  4.5990e+00,\n",
       "         -1.7685e+01, -7.9620e+00],\n",
       "        [-4.1703e+00, -6.1627e+01,  2.8074e+01,  4.7820e+01,  1.9909e+01,\n",
       "         -3.7847e+00,  2.2879e+01,  1.8679e+01,  2.5833e+01,  2.9382e+01,\n",
       "          1.0614e+01, -7.3785e+01, -1.8185e+01, -7.5490e+00, -7.9324e+00,\n",
       "          4.8449e+01, -1.4330e+01,  3.9480e+01,  6.6457e-01,  3.5539e+01,\n",
       "         -1.1616e+01,  1.4630e+01, -3.9792e+01,  2.7357e+01,  1.0586e+01,\n",
       "          8.9277e+00, -1.4487e+01],\n",
       "        [-1.2273e+01, -2.4379e+01,  1.4189e+01,  1.0376e+01,  1.6020e+01,\n",
       "         -7.1806e+00,  2.5619e+00,  1.0932e+01,  1.5026e+01,  9.2957e+00,\n",
       "          1.1429e+00, -4.0797e+01,  1.2766e+00,  6.2147e+00,  8.6650e+00,\n",
       "          2.2356e+01, -2.1226e+00, -1.5477e+00, -2.0353e+01, -7.3595e+00,\n",
       "         -1.1291e+01, -2.1818e+00, -2.9229e+01,  1.3310e+01,  8.3234e+00,\n",
       "         -1.5094e+00,  6.1412e+00],\n",
       "        [-1.0645e+01, -3.3239e+01,  6.2490e+00,  1.4529e+01,  6.3559e+00,\n",
       "         -1.8762e+01, -3.9569e+00,  1.9481e+01,  1.5477e+01, -4.6861e+00,\n",
       "          1.4656e+00, -4.2767e+01, -6.3685e+00,  3.4237e+00,  1.0958e+01,\n",
       "          3.5181e+01,  9.3586e+00, -1.0905e+01, -4.4899e+01, -1.2077e+01,\n",
       "         -6.7667e+00,  6.3330e+00, -4.9025e+01,  1.3472e+01,  3.2999e+00,\n",
       "         -7.4210e+00, -3.1497e-02],\n",
       "        [ 4.8185e+00, -2.0994e+01,  4.4639e+01,  3.5213e+01,  3.6335e+01,\n",
       "          4.5634e+01,  3.9685e+01, -1.9219e+01,  9.5517e+00,  5.7609e+01,\n",
       "          6.4687e+00, -1.5241e+01, -2.5247e+01,  4.1609e+00, -2.5257e+01,\n",
       "          1.1941e+01, -5.5064e+01,  6.9991e+01,  1.0164e+02,  4.9404e+01,\n",
       "         -1.3625e+01, -3.7660e+00,  5.7300e+01,  2.1676e+01,  5.5829e+00,\n",
       "          2.7067e+01, -2.6126e+01],\n",
       "        [-6.0384e+01,  2.3537e+00, -4.2195e+01,  1.1898e+01, -6.4003e+00,\n",
       "         -2.7769e+01, -1.4456e+01,  7.2178e+00,  2.9913e+01, -8.4463e+00,\n",
       "          3.2233e+01, -1.6831e+01,  5.7476e+01,  4.2367e+01, -1.3487e+01,\n",
       "         -2.5598e+01,  4.3423e+01,  2.3877e+01,  1.1570e+01, -4.1766e+01,\n",
       "          8.4900e+00, -2.2834e+01, -7.2544e+01, -6.8770e+01, -2.4780e+01,\n",
       "         -2.4440e+01,  4.9336e+01],\n",
       "        [ 2.1557e+00,  3.2682e+01,  1.3945e+01, -7.9539e+01, -1.1038e+01,\n",
       "          1.7696e+00, -4.4787e+00, -2.8891e+01, -2.0671e+01,  1.7638e+00,\n",
       "         -3.5751e+01,  2.7062e+01, -1.3876e+01, -2.7281e+00,  1.5734e+01,\n",
       "          2.4109e+01, -2.1672e+01, -8.1726e+01, -3.8807e+01, -2.6107e+01,\n",
       "         -1.3168e+01, -6.6572e+00,  4.9057e+01,  3.5035e+01,  3.1953e+00,\n",
       "          3.4571e+00, -2.3375e+01],\n",
       "        [-1.4966e+01, -1.5985e+01,  1.4477e+01,  5.7612e+00,  1.0888e+01,\n",
       "         -6.7230e+00, -1.2999e+00,  1.0352e+01,  2.4815e+01,  1.7192e+01,\n",
       "         -5.4578e-03, -4.5798e+01,  2.2962e+01,  5.8359e+00,  2.2445e+01,\n",
       "          1.5140e+01, -5.0633e+00, -4.2269e+00, -3.1063e+01, -1.6654e+01,\n",
       "         -1.1849e+01, -3.4871e+00, -3.5592e+01,  1.3541e+01,  4.6215e+00,\n",
       "         -8.4578e+00,  1.4899e+01],\n",
       "        [-9.3995e+00, -2.8546e+01,  7.1901e+00,  1.9906e+01, -9.8121e+00,\n",
       "         -5.3347e+00,  9.6180e+00,  3.9225e+00,  2.5097e+01,  2.1302e+01,\n",
       "          6.3258e+00, -3.4407e+01,  2.0312e-01, -1.8377e+00, -1.5024e+00,\n",
       "          3.6350e+01, -9.4916e+00,  1.9215e+01, -5.9195e+00,  1.1607e+01,\n",
       "         -6.4557e-01,  1.4140e+01, -2.9288e+01,  1.0482e+01, -1.4603e+01,\n",
       "         -5.1892e+00, -1.8501e+01],\n",
       "        [-1.2273e+01, -2.4379e+01,  1.4189e+01,  1.0376e+01,  1.6020e+01,\n",
       "         -7.1806e+00,  2.5619e+00,  1.0932e+01,  1.5026e+01,  9.2957e+00,\n",
       "          1.1429e+00, -4.0797e+01,  1.2766e+00,  6.2147e+00,  8.6650e+00,\n",
       "          2.2356e+01, -2.1226e+00, -1.5477e+00, -2.0353e+01, -7.3595e+00,\n",
       "         -1.1291e+01, -2.1818e+00, -2.9229e+01,  1.3310e+01,  8.3234e+00,\n",
       "         -1.5094e+00,  6.1412e+00],\n",
       "        [-8.7582e+00, -3.2485e+01,  9.1832e+00,  2.3407e+01,  1.6427e+00,\n",
       "         -3.4588e+00,  1.1697e+01,  5.0548e+00,  1.6681e+01,  1.5130e+01,\n",
       "          7.3343e+00, -3.1259e+01, -1.3266e+01,  1.7885e+00, -9.8590e+00,\n",
       "          3.4929e+01, -7.1869e+00,  2.1388e+01,  5.2918e+00,  1.4560e+01,\n",
       "         -2.6730e+00,  9.9066e+00, -2.2284e+01,  8.9791e+00, -7.1248e+00,\n",
       "          1.0574e+00, -1.7623e+01],\n",
       "        [-8.7461e+00, -1.0849e+01,  1.2293e+01,  2.7560e+01,  2.9919e+01,\n",
       "          7.9310e+00, -9.1496e+00,  1.4794e+01,  1.3432e+01, -3.6482e+00,\n",
       "          5.3789e+00, -1.3050e+01,  2.6621e+00,  2.2483e+01,  1.9680e+01,\n",
       "         -2.6727e+00, -2.2388e-01,  1.0452e+01, -1.8612e+00, -3.1042e+01,\n",
       "         -7.6507e+00, -1.1430e+01, -1.7702e+01, -6.7806e-01,  2.7707e+00,\n",
       "         -7.8659e+00,  1.7689e+01],\n",
       "        [-2.0558e+01, -2.8346e+01,  2.2581e+00, -1.9812e+01, -2.3694e+00,\n",
       "         -1.7924e+01,  2.3200e+01, -1.2001e+01, -6.4572e+00,  1.2512e+01,\n",
       "          4.0889e-01, -2.9395e+01, -2.9420e+01, -1.8159e+00, -4.2312e+01,\n",
       "          4.5023e+01, -4.2393e-01, -7.2186e+00,  1.2020e+01,  3.1793e+01,\n",
       "         -8.0648e+00,  2.1121e+00, -4.6204e+00,  7.3543e+00,  6.6297e+00,\n",
       "          1.7660e+01, -2.3582e+01],\n",
       "        [-1.2273e+01, -2.4379e+01,  1.4189e+01,  1.0376e+01,  1.6020e+01,\n",
       "         -7.1806e+00,  2.5619e+00,  1.0932e+01,  1.5026e+01,  9.2957e+00,\n",
       "          1.1429e+00, -4.0797e+01,  1.2766e+00,  6.2147e+00,  8.6650e+00,\n",
       "          2.2356e+01, -2.1226e+00, -1.5477e+00, -2.0353e+01, -7.3595e+00,\n",
       "         -1.1291e+01, -2.1818e+00, -2.9229e+01,  1.3310e+01,  8.3234e+00,\n",
       "         -1.5094e+00,  6.1412e+00],\n",
       "        [-1.3649e+01, -1.9844e+01,  1.7647e+01,  5.7733e+00,  2.2452e+01,\n",
       "         -5.0954e+00,  1.8465e+00,  1.0232e+01,  1.4462e+01,  1.1453e+01,\n",
       "         -6.0421e-01, -4.2832e+01,  7.2143e+00,  8.1455e+00,  1.3025e+01,\n",
       "          1.5568e+01, -3.8210e+00, -5.2101e+00, -2.0698e+01, -1.1985e+01,\n",
       "         -1.4808e+01, -7.6925e+00, -2.5821e+01,  1.4429e+01,  1.3806e+01,\n",
       "         -6.2407e-01,  1.4161e+01],\n",
       "        [-1.7129e+01, -2.4541e+01,  1.2116e+01,  3.6852e+00,  7.7015e+00,\n",
       "         -9.3777e+00,  9.8008e+00,  3.9399e+00,  1.7574e+01,  2.0081e+01,\n",
       "          2.6334e+00, -4.5990e+01,  6.3563e+00,  2.4376e+00, -1.0931e+00,\n",
       "          2.6119e+01, -5.2986e+00,  3.2573e+00, -1.1394e+01,  4.9129e+00,\n",
       "         -1.0684e+01, -4.1324e-01, -2.7732e+01,  1.1562e+01,  5.2826e+00,\n",
       "          1.1892e+00,  1.7606e+00],\n",
       "        [-7.3087e+00, -2.4604e+01,  4.0351e+00,  3.3772e+01, -5.5184e+00,\n",
       "          1.0546e+00,  2.9467e+00,  7.9297e+00,  2.6254e+01,  1.3098e+01,\n",
       "          1.0372e+01, -2.0493e+01, -1.3350e-01,  6.2375e+00,  3.6139e+00,\n",
       "          2.5946e+01, -6.6285e+00,  2.8810e+01,  2.4278e+00,  1.5375e-01,\n",
       "          3.3062e+00,  1.2196e+01, -2.8407e+01,  1.7123e+00, -2.0729e+01,\n",
       "         -1.0192e+01, -1.4809e+01],\n",
       "        [ 6.1260e-02, -2.1633e+01,  2.1131e+00,  4.3992e+01, -1.8175e+00,\n",
       "          1.7356e+01,  1.0636e+01, -3.1864e+00,  1.0870e+01,  7.7747e+00,\n",
       "          1.4275e+01,  1.5680e+01, -3.2262e+01,  1.2531e+01, -2.1509e+01,\n",
       "          2.3861e+01, -1.3395e+01,  5.0189e+01,  5.4030e+01,  1.4965e+01,\n",
       "          9.8128e+00,  1.2570e+01,  8.8097e+00, -7.6674e+00, -2.8983e+01,\n",
       "         -6.0809e-03, -3.6238e+01],\n",
       "        [-1.8837e+01,  1.7846e+01,  1.0495e+01,  1.8439e+00,  4.7083e+01,\n",
       "          2.6323e+01,  1.5945e+00, -1.2349e+01, -1.0778e+01,  8.0035e-01,\n",
       "          5.6571e+00,  2.5977e+01, -5.3294e+00,  3.9233e+01, -1.1537e+01,\n",
       "         -3.3212e+01, -7.9336e+00,  1.6748e+01,  6.8503e+01, -2.5429e+01,\n",
       "         -1.1237e+01, -3.6365e+01,  4.0850e+01, -2.1375e+01,  1.0009e+01,\n",
       "          1.0047e+01,  2.4167e+01],\n",
       "        [-4.8580e+01,  1.4531e+01, -1.0199e+01, -7.2786e+01, -1.8696e+01,\n",
       "         -3.5344e+00,  5.0465e+01, -6.4736e+01, -1.6315e+01,  5.3863e+01,\n",
       "          4.6631e+00,  2.1892e+00, -2.5005e+00,  6.4700e+00, -9.2935e+01,\n",
       "          1.4744e+01, -1.9580e+01,  1.1470e+01,  1.0725e+02,  6.2444e+01,\n",
       "         -7.3832e+00, -1.9894e+01,  5.9401e+01, -2.4596e+01, -4.2701e+00,\n",
       "          3.6036e+01, -2.4177e+01],\n",
       "        [-2.3692e+01,  5.6944e+01, -2.7481e+01,  1.6644e+01, -4.5374e+01,\n",
       "          3.9623e+01, -7.1791e+00, -3.6873e+01,  4.3376e+01,  3.7442e+01,\n",
       "          2.2171e+01,  7.3176e+01,  6.5095e+01,  3.5365e+01,  5.6537e+00,\n",
       "         -4.3107e+01, -2.5364e+01,  6.8998e+01,  9.2603e+01, -3.1799e+01,\n",
       "          2.7761e+01, -3.6018e+00,  3.0022e+01, -5.7686e+01, -8.4218e+01,\n",
       "         -3.3621e+01, -9.2003e+00],\n",
       "        [-2.3480e+01,  5.8803e+01, -5.0044e+01, -5.1623e+01, -6.4246e+01,\n",
       "         -4.1545e+00, -2.4399e+01, -3.6366e+01, -1.8465e+00, -2.1998e+01,\n",
       "         -2.7149e+00,  9.3593e+01,  1.5483e+01,  2.7007e+01, -7.1486e+00,\n",
       "         -5.2218e+00,  1.2579e+01, -3.3540e+01,  8.8793e+00, -5.2121e+01,\n",
       "          2.6581e+01, -2.5105e-01,  2.2300e+01, -4.5947e+01, -6.8305e+01,\n",
       "         -2.9322e+01, -2.7114e+01],\n",
       "        [-1.2273e+01, -2.4379e+01,  1.4189e+01,  1.0376e+01,  1.6020e+01,\n",
       "         -7.1806e+00,  2.5619e+00,  1.0932e+01,  1.5026e+01,  9.2957e+00,\n",
       "          1.1429e+00, -4.0797e+01,  1.2766e+00,  6.2147e+00,  8.6650e+00,\n",
       "          2.2356e+01, -2.1226e+00, -1.5477e+00, -2.0353e+01, -7.3595e+00,\n",
       "         -1.1291e+01, -2.1818e+00, -2.9229e+01,  1.3310e+01,  8.3234e+00,\n",
       "         -1.5094e+00,  6.1412e+00],\n",
       "        [-1.1778e+01, -2.4061e+01,  1.5091e+01,  1.2748e+01,  1.4856e+01,\n",
       "         -2.8542e+00,  6.9200e+00,  6.8834e+00,  1.5349e+01,  1.4885e+01,\n",
       "          2.7417e+00, -3.7629e+01, -5.1026e-01,  5.8035e+00,  2.9503e+00,\n",
       "          2.2125e+01, -6.7871e+00,  7.3909e+00, -6.3336e+00, -2.4836e-02,\n",
       "         -1.0230e+01, -1.3136e+00, -2.1674e+01,  1.2081e+01,  5.5398e+00,\n",
       "          8.8111e-01,  1.4146e+00],\n",
       "        [-1.3726e+01, -2.8656e+01,  8.4667e-03,  1.6638e+01,  3.1419e+00,\n",
       "         -1.8955e+01, -7.5953e+00,  1.9375e+01,  1.7236e+01, -8.2399e+00,\n",
       "          4.4711e+00, -3.5467e+01, -1.2101e+00,  7.9464e+00,  1.1156e+01,\n",
       "          2.9125e+01,  1.3525e+01, -7.7475e+00, -4.1525e+01, -1.8482e+01,\n",
       "         -3.4411e+00,  4.9833e+00, -5.1850e+01,  4.6150e+00, -2.7097e+00,\n",
       "         -1.1436e+01,  3.0723e+00],\n",
       "        [ 6.7213e+00, -2.9065e+01,  2.9747e+01,  2.1176e+01,  2.5066e+01,\n",
       "          1.3322e+01,  1.3710e+01,  3.5100e+00,  2.9228e+00,  1.4402e+01,\n",
       "         -3.3824e+00, -2.1775e+01, -3.3958e+01,  9.8586e-01, -1.9248e+00,\n",
       "          3.1892e+01, -2.2511e+01,  1.2975e+01,  1.2914e+01,  1.3882e+01,\n",
       "         -1.1712e+01,  4.0318e+00,  1.0624e+01,  2.8805e+01,  9.6906e+00,\n",
       "          1.1513e+01, -2.0861e+01],\n",
       "        [-2.5263e+01, -2.3854e+01,  8.9559e+00,  3.0848e+01,  2.8162e+01,\n",
       "          7.7246e+00,  1.8748e+01, -9.2407e-01,  1.4305e+01,  2.3496e+01,\n",
       "          1.9714e+01, -2.9218e+01,  4.7540e-01,  2.0771e+01, -2.7024e+01,\n",
       "          1.1243e+00, -5.7473e+00,  5.0054e+01,  5.9469e+01,  1.5390e+01,\n",
       "         -7.4929e+00, -1.3542e+01, -8.4312e+00, -1.6059e+01,  3.2971e+00,\n",
       "          9.9532e+00,  1.0408e+01],\n",
       "        [-3.2113e+01,  7.5123e+00, -1.2246e+01, -2.5390e+01,  6.6392e-02,\n",
       "         -1.5592e+01, -5.9362e+00, -6.0700e+00,  4.7414e+00, -3.1820e+00,\n",
       "          2.3019e+00, -7.0939e+00,  1.8580e+01,  2.0912e+01, -4.9187e+00,\n",
       "          2.7150e-01,  1.4349e+01, -2.1240e+01, -9.0113e+00, -2.7807e+01,\n",
       "         -4.7650e+00, -1.6716e+01, -1.9463e+01, -1.8281e+01, -3.6769e+00,\n",
       "         -6.6518e+00,  1.8078e+01],\n",
       "        [-3.0661e+00, -7.0656e+00,  6.0994e+00, -1.9949e+01, -1.8700e+01,\n",
       "         -2.9105e+00,  8.4880e+00, -1.3822e+01,  3.1576e+00,  1.3120e+01,\n",
       "         -9.5145e+00, -2.1636e+00, -1.7336e+01, -5.0660e+00, -6.7389e+00,\n",
       "          4.0253e+01, -1.5266e+01, -1.6881e+01, -8.9666e+00,  7.6554e+00,\n",
       "         -1.6500e+00,  1.1590e+01,  8.3294e+00,  1.8982e+01, -1.3773e+01,\n",
       "          1.1135e+00, -3.4609e+01]])"
      ]
     },
     "execution_count": 325,
     "metadata": {},
     "output_type": "execute_result"
    }
   ],
   "source": [
    "logits = h @ W2 + b2\n",
    "logits"
   ]
  },
  {
   "cell_type": "code",
   "execution_count": 326,
   "metadata": {},
   "outputs": [
    {
     "data": {
      "text/plain": [
       "torch.Size([32, 27])"
      ]
     },
     "execution_count": 326,
     "metadata": {},
     "output_type": "execute_result"
    }
   ],
   "source": [
    "logits.shape"
   ]
  },
  {
   "cell_type": "code",
   "execution_count": 327,
   "metadata": {},
   "outputs": [],
   "source": [
    "counts = logits.exp()"
   ]
  },
  {
   "cell_type": "code",
   "execution_count": 328,
   "metadata": {},
   "outputs": [],
   "source": [
    "prob = counts / counts.sum(1, keepdims=True)"
   ]
  },
  {
   "cell_type": "code",
   "execution_count": 329,
   "metadata": {},
   "outputs": [
    {
     "data": {
      "text/plain": [
       "torch.Size([32, 27])"
      ]
     },
     "execution_count": 329,
     "metadata": {},
     "output_type": "execute_result"
    }
   ],
   "source": [
    "prob.shape"
   ]
  },
  {
   "cell_type": "code",
   "execution_count": 330,
   "metadata": {},
   "outputs": [
    {
     "data": {
      "text/plain": [
       "tensor([1.4828e-13, 6.5458e-12, 1.7938e-17, 5.5510e-33, 9.1643e-24, 9.9716e-01,\n",
       "        9.0255e-19, 0.0000e+00, 0.0000e+00, 2.8883e-21, 1.5259e-18, 1.3532e-20,\n",
       "        5.0343e-21, 1.4220e-25, 1.8006e-18, 3.3009e-29, 2.1215e-06, 1.0964e-15,\n",
       "        9.9488e-23, 1.2073e-13, 1.1568e-16, 8.6096e-33, 0.0000e+00, 0.0000e+00,\n",
       "        0.0000e+00, 1.2398e-13, 9.9645e-01, 1.6784e-07, 2.2534e-13, 2.3830e-16,\n",
       "        1.3096e-06, 1.5375e-19])"
      ]
     },
     "execution_count": 330,
     "metadata": {},
     "output_type": "execute_result"
    }
   ],
   "source": [
    "prob[torch.arange(32), Y]"
   ]
  },
  {
   "cell_type": "markdown",
   "metadata": {},
   "source": [
    "### compiling and generalizing"
   ]
  },
  {
   "cell_type": "code",
   "execution_count": 331,
   "metadata": {},
   "outputs": [],
   "source": [
    "g = torch.Generator().manual_seed(2147483647) # for reproducibility\n",
    "C = torch.randn((27, 2), generator=g)\n",
    "W1 = torch.randn((6, 100), generator=g)\n",
    "b1 = torch.randn(100, generator=g)\n",
    "W2 = torch.randn((100, 27), generator=g)\n",
    "b2 = torch.randn(27, generator=g)\n",
    "parameters = [C, W1, b1, W2, b2]"
   ]
  },
  {
   "cell_type": "code",
   "execution_count": 332,
   "metadata": {},
   "outputs": [
    {
     "data": {
      "text/plain": [
       "3481"
      ]
     },
     "execution_count": 332,
     "metadata": {},
     "output_type": "execute_result"
    }
   ],
   "source": [
    "sum(p.nelement() for p in parameters) # number of parameters in total"
   ]
  },
  {
   "cell_type": "code",
   "execution_count": 333,
   "metadata": {},
   "outputs": [],
   "source": [
    "for p in parameters:\n",
    "  p.requires_grad = True"
   ]
  },
  {
   "cell_type": "code",
   "execution_count": 334,
   "metadata": {},
   "outputs": [
    {
     "name": "stdout",
     "output_type": "stream",
     "text": [
      "0.3367388844490051\n"
     ]
    }
   ],
   "source": [
    "for _ in range(100):\n",
    "  # forward pass\n",
    "  emb = C[X] # (32, 3, 2)\n",
    "  h = torch.tanh(emb.view(-1, 6) @ W1 + b1) # (32, 100)\n",
    "  logits = h @ W2 + b2 # (32, 27)\n",
    "  loss = F.cross_entropy(logits, Y)\n",
    "  #print(loss.item())\n",
    "  \n",
    "  # backward pass\n",
    "  for p in parameters:\n",
    "    p.grad = None\n",
    "  loss.backward()\n",
    "  \n",
    "  # update\n",
    "  for p in parameters:\n",
    "    p.data += -0.1 * p.grad\n",
    "\n",
    "print(loss.item())"
   ]
  },
  {
   "cell_type": "markdown",
   "metadata": {},
   "source": [
    "### training on full dataset"
   ]
  },
  {
   "cell_type": "code",
   "execution_count": 335,
   "metadata": {},
   "outputs": [],
   "source": [
    "# build the dataset\n",
    "\n",
    "block_size = 3 # context length: how many characters do we take to predict the next one?\n",
    "X, Y = [], []\n",
    "for w in words:\n",
    "  \n",
    "  #print(w)\n",
    "  context = [0] * block_size\n",
    "  for ch in w + '.':\n",
    "    ix = stoi[ch]\n",
    "    X.append(context)\n",
    "    Y.append(ix)\n",
    "    # print(''.join(itos[i] for i in context), '--->', itos[ix])\n",
    "    context = context[1:] + [ix] # crop and append\n",
    "  \n",
    "X = torch.tensor(X)\n",
    "Y = torch.tensor(Y)"
   ]
  },
  {
   "cell_type": "code",
   "execution_count": 336,
   "metadata": {},
   "outputs": [
    {
     "data": {
      "text/plain": [
       "(torch.Size([228146, 3]), torch.int64, torch.Size([228146]), torch.int64)"
      ]
     },
     "execution_count": 336,
     "metadata": {},
     "output_type": "execute_result"
    }
   ],
   "source": [
    "X.shape, X.dtype, Y.shape, Y.dtype"
   ]
  },
  {
   "cell_type": "code",
   "execution_count": 359,
   "metadata": {},
   "outputs": [],
   "source": [
    "g = torch.Generator().manual_seed(2147483647) # for reproducibility\n",
    "C = torch.randn((27, 2), generator=g)\n",
    "W1 = torch.randn((6, 100), generator=g)\n",
    "b1 = torch.randn(100, generator=g)\n",
    "W2 = torch.randn((100, 27), generator=g)\n",
    "b2 = torch.randn(27, generator=g)\n",
    "parameters = [C, W1, b1, W2, b2]"
   ]
  },
  {
   "cell_type": "code",
   "execution_count": 360,
   "metadata": {},
   "outputs": [
    {
     "data": {
      "text/plain": [
       "3481"
      ]
     },
     "execution_count": 360,
     "metadata": {},
     "output_type": "execute_result"
    }
   ],
   "source": [
    "sum(p.nelement() for p in parameters) # number of parameters in total"
   ]
  },
  {
   "cell_type": "code",
   "execution_count": 361,
   "metadata": {},
   "outputs": [],
   "source": [
    "for p in parameters:\n",
    "  p.requires_grad = True"
   ]
  },
  {
   "cell_type": "code",
   "execution_count": 362,
   "metadata": {},
   "outputs": [],
   "source": [
    "lre = torch.linspace(-3, 0, 1000)\n",
    "lrs = 10**lre"
   ]
  },
  {
   "cell_type": "code",
   "execution_count": 363,
   "metadata": {},
   "outputs": [],
   "source": [
    "# lri = []\n",
    "# lossi = []\n",
    "\n",
    "for _ in range(10000):\n",
    "  # minibatch construct\n",
    "  ix = torch.randint(0, X.shape[0], (32,))     # sample for batching\n",
    "    \n",
    "  # forward pass\n",
    "  emb = C[X[ix]] # (32, 3, 2)\n",
    "  h = torch.tanh(emb.view(-1, 6) @ W1 + b1) # (32, 100)\n",
    "  logits = h @ W2 + b2 # (32, 27)\n",
    "  loss = F.cross_entropy(logits, Y[ix])\n",
    "  \n",
    "  # backward pass\n",
    "  for p in parameters:\n",
    "    p.grad = None\n",
    "  loss.backward()\n",
    "  \n",
    "  # update\n",
    "  # lr = lrs[i]\n",
    "  lr = 0.1\n",
    "  for p in parameters:\n",
    "    p.data += -lr * p.grad\n",
    "    \n",
    "  # track stats\n",
    "  # lri.append(lre[i])\n",
    "  # lossi.append(loss.item())"
   ]
  },
  {
   "cell_type": "code",
   "execution_count": 355,
   "metadata": {},
   "outputs": [
    {
     "data": {
      "text/plain": [
       "[<matplotlib.lines.Line2D at 0x23109874e90>]"
      ]
     },
     "execution_count": 355,
     "metadata": {},
     "output_type": "execute_result"
    },
    {
     "data": {
      "image/png": "[encoded data removed]",
      "text/plain": [
       "<Figure size 640x480 with 1 Axes>"
      ]
     },
     "metadata": {},
     "output_type": "display_data"
    }
   ],
   "source": [
    "plt.plot(lri, lossi)    # to determine optimum lr"
   ]
  },
  {
   "cell_type": "code",
   "execution_count": 364,
   "metadata": {},
   "outputs": [
    {
     "data": {
      "text/plain": [
       "tensor(2.5100, grad_fn=<NllLossBackward0>)"
      ]
     },
     "execution_count": 364,
     "metadata": {},
     "output_type": "execute_result"
    }
   ],
   "source": [
    "# overall loss\n",
    "emb = C[X] # (32, 3, 2)\n",
    "h = torch.tanh(emb.view(-1, 6) @ W1 + b1) # (32, 100)\n",
    "logits = h @ W2 + b2 # (32, 27)\n",
    "loss = F.cross_entropy(logits, Y)\n",
    "loss"
   ]
  },
  {
   "cell_type": "markdown",
   "metadata": {},
   "source": [
    "### training split, dev/validation split, test split\n",
    "#### 80%, 10%, 10%"
   ]
  },
  {
   "cell_type": "code",
   "execution_count": 366,
   "metadata": {},
   "outputs": [
    {
     "name": "stdout",
     "output_type": "stream",
     "text": [
      "torch.Size([182625, 3]) torch.Size([182625])\n",
      "torch.Size([22655, 3]) torch.Size([22655])\n",
      "torch.Size([22866, 3]) torch.Size([22866])\n"
     ]
    }
   ],
   "source": [
    "# build the dataset\n",
    "block_size = 3 # context length: how many characters do we take to predict the next one?\n",
    "\n",
    "def build_dataset(words):  \n",
    "  X, Y = [], []\n",
    "  for w in words:\n",
    "\n",
    "    #print(w)\n",
    "    context = [0] * block_size\n",
    "    for ch in w + '.':\n",
    "      ix = stoi[ch]\n",
    "      X.append(context)\n",
    "      Y.append(ix)\n",
    "      #print(''.join(itos[i] for i in context), '--->', itos[ix])\n",
    "      context = context[1:] + [ix] # crop and append\n",
    "\n",
    "  X = torch.tensor(X)\n",
    "  Y = torch.tensor(Y)\n",
    "  print(X.shape, Y.shape)\n",
    "  return X, Y\n",
    "\n",
    "import random\n",
    "random.seed(42)\n",
    "random.shuffle(words)\n",
    "n1 = int(0.8*len(words))\n",
    "n2 = int(0.9*len(words))\n",
    "\n",
    "Xtr, Ytr = build_dataset(words[:n1])\n",
    "Xdev, Ydev = build_dataset(words[n1:n2])\n",
    "Xte, Yte = build_dataset(words[n2:])"
   ]
  },
  {
   "cell_type": "code",
   "execution_count": 412,
   "metadata": {},
   "outputs": [],
   "source": [
    "g = torch.Generator().manual_seed(2147483647) # for reproducibility\n",
    "C = torch.randn((27, 10), generator=g) # making a 10 dim embedding\n",
    "W1 = torch.randn((30, 200), generator=g)\n",
    "b1 = torch.randn(200, generator=g)\n",
    "W2 = torch.randn((200, 27), generator=g)\n",
    "b2 = torch.randn(27, generator=g)\n",
    "parameters = [C, W1, b1, W2, b2]"
   ]
  },
  {
   "cell_type": "code",
   "execution_count": 413,
   "metadata": {},
   "outputs": [
    {
     "data": {
      "text/plain": [
       "11897"
      ]
     },
     "execution_count": 413,
     "metadata": {},
     "output_type": "execute_result"
    }
   ],
   "source": [
    "sum(p.nelement() for p in parameters) # number of parameters in total"
   ]
  },
  {
   "cell_type": "code",
   "execution_count": 414,
   "metadata": {},
   "outputs": [],
   "source": [
    "for p in parameters:\n",
    "  p.requires_grad = True"
   ]
  },
  {
   "cell_type": "code",
   "execution_count": 415,
   "metadata": {},
   "outputs": [],
   "source": [
    "lossi = []\n",
    "stepi = []"
   ]
  },
  {
   "cell_type": "code",
   "execution_count": 420,
   "metadata": {},
   "outputs": [
    {
     "name": "stdout",
     "output_type": "stream",
     "text": [
      "2.157487154006958\n"
     ]
    }
   ],
   "source": [
    "for i in range(50000):\n",
    "  # minibatch construct\n",
    "  ix = torch.randint(0, Xtr.shape[0], (32,))     # sample for batching\n",
    "    \n",
    "  # forward pass\n",
    "  emb = C[Xtr[ix]] # (32, 3, 2)\n",
    "  h = torch.tanh(emb.view(-1, 30) @ W1 + b1) # (32, 100)\n",
    "  logits = h @ W2 + b2 # (32, 27)\n",
    "  loss = F.cross_entropy(logits, Ytr[ix])\n",
    "  \n",
    "  # backward pass\n",
    "  for p in parameters:\n",
    "    p.grad = None\n",
    "  loss.backward()\n",
    "  \n",
    "  # update\n",
    "  lr = 0.01\n",
    "  for p in parameters:\n",
    "    p.data += -lr * p.grad\n",
    "\n",
    "  # tracking stats\n",
    "  stepi.append(i)\n",
    "  lossi.append(loss.log10().item())\n",
    "\n",
    "print(loss.item())"
   ]
  },
  {
   "cell_type": "code",
   "execution_count": 421,
   "metadata": {},
   "outputs": [
    {
     "data": {
      "text/plain": [
       "[<matplotlib.lines.Line2D at 0x2310af93650>]"
      ]
     },
     "execution_count": 421,
     "metadata": {},
     "output_type": "execute_result"
    },
    {
     "data": {
      "image/png": "[encoded data removed]",
      "text/plain": [
       "<Figure size 640x480 with 1 Axes>"
      ]
     },
     "metadata": {},
     "output_type": "display_data"
    }
   ],
   "source": [
    "plt.plot(stepi, lossi)"
   ]
  },
  {
   "cell_type": "code",
   "execution_count": 422,
   "metadata": {},
   "outputs": [
    {
     "data": {
      "text/plain": [
       "tensor(2.1658, grad_fn=<NllLossBackward0>)"
      ]
     },
     "execution_count": 422,
     "metadata": {},
     "output_type": "execute_result"
    }
   ],
   "source": [
    "# overall loss on tr\n",
    "emb = C[Xtr] # (32, 3, 10)\n",
    "h = torch.tanh(emb.view(-1, 30) @ W1 + b1) # (32, 200)\n",
    "logits = h @ W2 + b2 # (32, 27)\n",
    "loss = F.cross_entropy(logits, Ytr)\n",
    "loss"
   ]
  },
  {
   "cell_type": "code",
   "execution_count": 423,
   "metadata": {},
   "outputs": [
    {
     "data": {
      "text/plain": [
       "tensor(2.1976, grad_fn=<NllLossBackward0>)"
      ]
     },
     "execution_count": 423,
     "metadata": {},
     "output_type": "execute_result"
    }
   ],
   "source": [
    "# overall loss on dev\n",
    "emb = C[Xdev] # (32, 3, 10)\n",
    "h = torch.tanh(emb.view(-1, 30) @ W1 + b1) # (32, 200)\n",
    "logits = h @ W2 + b2 # (32, 27)\n",
    "loss = F.cross_entropy(logits, Ydev)\n",
    "loss"
   ]
  },
  {
   "cell_type": "code",
   "execution_count": 411,
   "metadata": {},
   "outputs": [
    {
     "data": {
      "image/png": "[encoded data removed]",
      "text/plain": [
       "<Figure size 800x800 with 1 Axes>"
      ]
     },
     "metadata": {},
     "output_type": "display_data"
    }
   ],
   "source": [
    "# visualize dimensions 0 and 1 of the embedding matrix C for all characters\n",
    "plt.figure(figsize=(8,8))\n",
    "plt.scatter(C[:,0].data, C[:,1].data, s=200)\n",
    "for i in range(C.shape[0]):\n",
    "    plt.text(C[i,0].item(), C[i,1].item(), itos[i], ha=\"center\", va=\"center\", color='white')\n",
    "plt.grid('minor')"
   ]
  },
  {
   "cell_type": "code",
   "execution_count": 424,
   "metadata": {},
   "outputs": [
    {
     "name": "stdout",
     "output_type": "stream",
     "text": [
      "mora.\n",
      "kayah.\n",
      "see.\n",
      "mad.\n",
      "ryla.\n",
      "rethre.\n",
      "endraeg.\n",
      "azeredieliigh.\n",
      "poren.\n",
      "eden.\n",
      "sananar.\n",
      "kayzion.\n",
      "kalin.\n",
      "shrenzi.\n",
      "himies.\n",
      "kin.\n",
      "renly.\n",
      "panteromius.\n",
      "kace.\n",
      "ryyah.\n"
     ]
    }
   ],
   "source": [
    "# sample from the model\n",
    "g = torch.Generator().manual_seed(2147483647 + 10)\n",
    "\n",
    "for _ in range(20):\n",
    "    \n",
    "    out = []\n",
    "    context = [0] * block_size # initialize with all ...\n",
    "    while True:\n",
    "      emb = C[torch.tensor([context])] # (1,block_size,d)\n",
    "      h = torch.tanh(emb.view(1, -1) @ W1 + b1)\n",
    "      logits = h @ W2 + b2\n",
    "      probs = F.softmax(logits, dim=1)\n",
    "      ix = torch.multinomial(probs, num_samples=1, generator=g).item()\n",
    "      context = context[1:] + [ix]\n",
    "      out.append(ix)\n",
    "      if ix == 0:\n",
    "        break\n",
    "    \n",
    "    print(''.join(itos[i] for i in out))"
   ]
  },
  {
   "cell_type": "code",
   "execution_count": null,
   "metadata": {},
   "outputs": [],
   "source": []
  }
 ],
 "metadata": {
  "kernelspec": {
   "display_name": "Python 3",
   "language": "python",
   "name": "python3"
  },
  "language_info": {
   "codemirror_mode": {
    "name": "ipython",
    "version": 3
   },
   "file_extension": ".py",
   "mimetype": "text/x-python",
   "name": "python",
   "nbconvert_exporter": "python",
   "pygments_lexer": "ipython3",
   "version": "3.11.4"
  },
  "orig_nbformat": 4
 },
 "nbformat": 4,
 "nbformat_minor": 2
}
