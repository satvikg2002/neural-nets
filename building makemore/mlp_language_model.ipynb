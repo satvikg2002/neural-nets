{
 "cells": [
  {
   "cell_type": "markdown",
   "metadata": {},
   "source": [
    "# Adding Layers to the NN"
   ]
  },
  {
   "cell_type": "markdown",
   "metadata": {},
   "source": [
    "Ref Paper : https://www.jmlr.org/papers/volume3/bengio03a/bengio03a.pdf     \n",
    "Ref Notebook : https://github.com/karpathy/nn-zero-to-hero/blob/master/lectures/makemore/makemore_part2_mlp.ipynb\n"
   ]
  },
  {
   "cell_type": "code",
   "execution_count": 1,
   "metadata": {},
   "outputs": [],
   "source": [
    "import torch\n",
    "import torch.nn.functional as F\n",
    "import matplotlib.pyplot as plt # for making figures\n",
    "%matplotlib inline"
   ]
  },
  {
   "cell_type": "code",
   "execution_count": 2,
   "metadata": {},
   "outputs": [
    {
     "data": {
      "text/plain": [
       "['emma', 'olivia', 'ava', 'isabella', 'sophia', 'charlotte', 'mia', 'amelia']"
      ]
     },
     "execution_count": 2,
     "metadata": {},
     "output_type": "execute_result"
    }
   ],
   "source": [
    "words = open('names.txt', 'r').read().splitlines()\n",
    "words[:8]"
   ]
  },
  {
   "cell_type": "code",
   "execution_count": 3,
   "metadata": {},
   "outputs": [
    {
     "data": {
      "text/plain": [
       "32033"
      ]
     },
     "execution_count": 3,
     "metadata": {},
     "output_type": "execute_result"
    }
   ],
   "source": [
    "len(words)"
   ]
  },
  {
   "cell_type": "code",
   "execution_count": 4,
   "metadata": {},
   "outputs": [
    {
     "name": "stdout",
     "output_type": "stream",
     "text": [
      "{1: 'a', 2: 'b', 3: 'c', 4: 'd', 5: 'e', 6: 'f', 7: 'g', 8: 'h', 9: 'i', 10: 'j', 11: 'k', 12: 'l', 13: 'm', 14: 'n', 15: 'o', 16: 'p', 17: 'q', 18: 'r', 19: 's', 20: 't', 21: 'u', 22: 'v', 23: 'w', 24: 'x', 25: 'y', 26: 'z', 0: '.'}\n"
     ]
    }
   ],
   "source": [
    "# build the vocabulary of characters and mappings to/from integers\n",
    "chars = sorted(list(set(''.join(words))))\n",
    "stoi = {s:i+1 for i,s in enumerate(chars)}\n",
    "stoi['.'] = 0\n",
    "itos = {i:s for s,i in stoi.items()}\n",
    "print(itos)"
   ]
  },
  {
   "cell_type": "code",
   "execution_count": 28,
   "metadata": {},
   "outputs": [
    {
     "name": "stdout",
     "output_type": "stream",
     "text": [
      "... ---> e\n",
      "..e ---> m\n",
      ".em ---> m\n",
      "emm ---> a\n",
      "mma ---> .\n",
      "... ---> o\n",
      "..o ---> l\n",
      ".ol ---> i\n",
      "oli ---> v\n",
      "liv ---> i\n",
      "ivi ---> a\n",
      "via ---> .\n",
      "... ---> a\n",
      "..a ---> v\n",
      ".av ---> a\n",
      "ava ---> .\n",
      "... ---> i\n",
      "..i ---> s\n",
      ".is ---> a\n",
      "isa ---> b\n",
      "sab ---> e\n",
      "abe ---> l\n",
      "bel ---> l\n",
      "ell ---> a\n",
      "lla ---> .\n",
      "... ---> s\n",
      "..s ---> o\n",
      ".so ---> p\n",
      "sop ---> h\n",
      "oph ---> i\n",
      "phi ---> a\n",
      "hia ---> .\n"
     ]
    }
   ],
   "source": [
    "# build the dataset\n",
    "\n",
    "block_size = 3 # context length: how many characters do we take to predict the next one?\n",
    "X, Y = [], []\n",
    "for w in words[:5]:\n",
    "  \n",
    "  #print(w)\n",
    "  context = [0] * block_size\n",
    "  for ch in w + '.':\n",
    "    ix = stoi[ch]\n",
    "    X.append(context)\n",
    "    Y.append(ix)\n",
    "    print(''.join(itos[i] for i in context), '--->', itos[ix])\n",
    "    context = context[1:] + [ix] # crop and append\n",
    "  \n",
    "X = torch.tensor(X)\n",
    "Y = torch.tensor(Y)"
   ]
  },
  {
   "cell_type": "code",
   "execution_count": 29,
   "metadata": {},
   "outputs": [
    {
     "data": {
      "text/plain": [
       "(torch.Size([32, 3]), torch.int64, torch.Size([32]), torch.int64)"
      ]
     },
     "execution_count": 29,
     "metadata": {},
     "output_type": "execute_result"
    }
   ],
   "source": [
    "X.shape, X.dtype, Y.shape, Y.dtype"
   ]
  },
  {
   "cell_type": "code",
   "execution_count": 30,
   "metadata": {},
   "outputs": [],
   "source": [
    "C = torch.randn((27,2))  # 27 chars in a 2d space"
   ]
  },
  {
   "cell_type": "code",
   "execution_count": 31,
   "metadata": {},
   "outputs": [
    {
     "name": "stdout",
     "output_type": "stream",
     "text": [
      "tensor([ 0.0234, -0.4436])\n"
     ]
    },
    {
     "data": {
      "text/plain": [
       "tensor([ 0.0234, -0.4436])"
      ]
     },
     "execution_count": 31,
     "metadata": {},
     "output_type": "execute_result"
    }
   ],
   "source": [
    "print(C[5])\n",
    "F.one_hot(torch.tensor(5), num_classes=27).float() @ C"
   ]
  },
  {
   "cell_type": "code",
   "execution_count": 33,
   "metadata": {},
   "outputs": [
    {
     "data": {
      "text/plain": [
       "tensor(0)"
      ]
     },
     "execution_count": 33,
     "metadata": {},
     "output_type": "execute_result"
    }
   ],
   "source": [
    "X[13,1]"
   ]
  },
  {
   "cell_type": "code",
   "execution_count": 34,
   "metadata": {},
   "outputs": [
    {
     "name": "stdout",
     "output_type": "stream",
     "text": [
      "tensor([-0.1526,  1.2262])\n"
     ]
    },
    {
     "data": {
      "text/plain": [
       "tensor([-0.1526,  1.2262])"
      ]
     },
     "execution_count": 34,
     "metadata": {},
     "output_type": "execute_result"
    }
   ],
   "source": [
    "print(C[X[13,1]])\n",
    "C[0]"
   ]
  },
  {
   "cell_type": "code",
   "execution_count": 36,
   "metadata": {},
   "outputs": [
    {
     "data": {
      "text/plain": [
       "torch.Size([32, 3, 2])"
      ]
     },
     "execution_count": 36,
     "metadata": {},
     "output_type": "execute_result"
    }
   ],
   "source": [
    "emb = C[X]  # creating embeddings\n",
    "emb.shape"
   ]
  },
  {
   "cell_type": "code",
   "execution_count": 39,
   "metadata": {},
   "outputs": [],
   "source": [
    "W1 = torch.randn((6, 100))\n",
    "b1 = torch.randn(100)"
   ]
  },
  {
   "cell_type": "code",
   "execution_count": 41,
   "metadata": {},
   "outputs": [
    {
     "data": {
      "text/plain": [
       "torch.Size([32, 6])"
      ]
     },
     "execution_count": 41,
     "metadata": {},
     "output_type": "execute_result"
    }
   ],
   "source": [
    "# adjusting shape \n",
    "torch.cat(torch.unbind(emb, 1), 1).shape"
   ]
  },
  {
   "cell_type": "code",
   "execution_count": 44,
   "metadata": {},
   "outputs": [
    {
     "data": {
      "text/plain": [
       "torch.Size([32, 100])"
      ]
     },
     "execution_count": 44,
     "metadata": {},
     "output_type": "execute_result"
    }
   ],
   "source": [
    "h = emb.view(-1, 6) @ W1 + b1  # using view since it is computationally efficient\n",
    "h.shape"
   ]
  },
  {
   "cell_type": "code",
   "execution_count": 45,
   "metadata": {},
   "outputs": [
    {
     "data": {
      "text/plain": [
       "tensor([[ 0.8261,  2.2743,  1.1182,  ..., -0.9410,  1.2477, -0.3422],\n",
       "        [ 2.3607,  0.5881,  0.2553,  ...,  0.6048,  3.2003,  1.0931],\n",
       "        [ 2.8802, -1.0586,  1.2458,  ...,  1.1670,  1.8980, -1.9208],\n",
       "        ...,\n",
       "        [ 0.2490, -0.7695,  1.6617,  ...,  0.6566,  0.4313, -1.7774],\n",
       "        [ 0.4947, -0.5772,  0.0332,  ..., -0.9599, -0.7008, -3.3758],\n",
       "        [ 1.4935,  1.1335,  1.1170,  ..., -3.5095, -0.8179, -1.8932]])"
      ]
     },
     "execution_count": 45,
     "metadata": {},
     "output_type": "execute_result"
    }
   ],
   "source": [
    "h"
   ]
  },
  {
   "cell_type": "code",
   "execution_count": 46,
   "metadata": {},
   "outputs": [],
   "source": [
    "W2 = torch.randn((100, 27))\n",
    "b2 = torch.randn(27)"
   ]
  },
  {
   "cell_type": "code",
   "execution_count": 48,
   "metadata": {},
   "outputs": [
    {
     "data": {
      "text/plain": [
       "tensor([[ 1.3243e+01,  1.5158e+01,  1.8106e+01,  6.5567e+00,  2.8933e+01,\n",
       "         -2.9779e+01, -1.3283e+01, -5.4683e+00,  2.5416e+01, -2.9753e+01,\n",
       "          3.1175e+00,  4.9598e+00,  1.2845e+01, -3.2694e+01,  3.5672e+01,\n",
       "          5.2572e+01,  1.6752e+01,  1.7260e+01, -6.6283e+00,  2.1063e+01,\n",
       "         -1.1042e+01,  4.0754e+00,  1.7313e+01,  1.9788e+01, -2.0945e+00,\n",
       "          6.1351e+01,  3.6448e+00],\n",
       "        [-6.9918e-01,  1.4074e+01,  1.1429e+01,  1.4385e+01,  1.4317e+01,\n",
       "         -5.9694e+00,  9.7217e+00, -3.7448e+00, -2.3136e+01, -2.2603e+01,\n",
       "          1.8688e+01, -1.9699e+01,  3.4505e+01, -5.1878e+00,  1.5174e+01,\n",
       "          3.3814e+01,  3.8692e+01,  1.5040e+01,  2.3890e-01,  2.1797e+01,\n",
       "         -2.5811e+01,  1.6970e+01,  1.4892e+01, -1.9440e+01, -1.6381e+00,\n",
       "          3.9977e+01,  3.1631e-01],\n",
       "        [-3.4259e+00,  8.7256e+00,  4.3330e+00, -4.6804e+00, -2.2613e+00,\n",
       "          7.7554e+00,  1.4321e+00,  1.4629e+01, -2.8161e+01, -8.4981e+00,\n",
       "          2.0092e+01, -1.2437e+01,  1.4524e+01,  4.9971e+00, -1.3407e+01,\n",
       "          8.6999e+00,  3.1805e+01,  2.3355e+01,  1.7457e+01,  1.8002e+01,\n",
       "         -8.1330e+00,  9.7122e+00, -6.5161e+00, -3.5833e+01, -7.3484e+00,\n",
       "          2.8391e+01,  7.4376e+00],\n",
       "        [-2.0875e+01, -2.2292e+01, -2.1162e+00, -3.0711e+01, -5.0124e+00,\n",
       "          2.1354e+01, -2.0831e+00,  1.0799e+01, -2.1191e+01, -1.8601e+00,\n",
       "          1.7366e+01, -4.0156e+00, -3.0322e+00,  8.6859e+00, -3.8128e+01,\n",
       "         -1.1116e+01,  3.5448e-01, -1.1080e+01,  3.5716e+01, -9.6512e+00,\n",
       "         -1.0895e+01,  4.5237e+00, -6.8588e-01, -7.7246e+00, -2.0241e+01,\n",
       "          1.3536e+01,  3.1450e+00],\n",
       "        [-1.4531e+01, -1.7683e+01,  3.2796e+00, -5.0533e+01, -1.2348e+00,\n",
       "         -2.3745e+00, -2.1602e+01,  1.5954e+01,  2.5466e+01, -1.3484e+01,\n",
       "          1.5501e+01,  1.1173e+01, -1.4827e+01, -6.8615e+00, -2.3595e+01,\n",
       "          7.1905e-01, -2.0200e+01, -1.3878e+01,  3.1895e+01, -1.2827e+01,\n",
       "          2.9261e+00, -1.6492e+01,  2.3199e+00,  2.9302e+01, -2.4204e+01,\n",
       "          3.0053e+01,  1.5691e+01],\n",
       "        [ 1.3243e+01,  1.5158e+01,  1.8106e+01,  6.5567e+00,  2.8933e+01,\n",
       "         -2.9779e+01, -1.3283e+01, -5.4683e+00,  2.5416e+01, -2.9753e+01,\n",
       "          3.1175e+00,  4.9598e+00,  1.2845e+01, -3.2694e+01,  3.5672e+01,\n",
       "          5.2572e+01,  1.6752e+01,  1.7260e+01, -6.6283e+00,  2.1063e+01,\n",
       "         -1.1042e+01,  4.0754e+00,  1.7313e+01,  1.9788e+01, -2.0945e+00,\n",
       "          6.1351e+01,  3.6448e+00],\n",
       "        [ 1.0476e+01,  5.0474e-01,  1.3908e+01,  3.7792e+01,  9.0762e+00,\n",
       "         -5.7686e+00,  1.7107e+01, -1.9640e+01, -3.4246e+01, -2.1882e+01,\n",
       "          1.6260e+01, -1.7704e+01,  4.2522e+01, -1.6205e+01,  1.6418e+01,\n",
       "          5.0766e+01,  3.9429e+01,  7.1983e+00, -1.9853e+01,  2.6980e+01,\n",
       "         -6.6241e+00,  2.2561e+01,  3.2037e+01, -1.5359e+01,  9.7067e+00,\n",
       "          2.5722e+01, -2.0649e-01],\n",
       "        [ 2.0351e+01, -1.3662e-01,  2.1256e+00,  3.8968e+01, -1.8229e+00,\n",
       "          3.0376e+00,  1.5770e+01,  5.7485e+00, -4.0140e+01, -9.4610e+00,\n",
       "          8.5821e+00, -1.4884e+01,  3.6488e+01, -1.6155e+01,  5.6980e+00,\n",
       "          6.1159e+00,  4.5350e+01,  2.2675e+01, -2.9851e+01,  2.2932e+01,\n",
       "          2.4601e+01,  1.5233e+01,  1.6666e+00, -2.2319e+01,  2.1583e+01,\n",
       "         -2.7805e+01,  1.4143e+01],\n",
       "        [ 6.6509e+00, -3.0673e+01, -6.8235e+00,  1.6089e+01,  2.0634e+01,\n",
       "          1.6607e+01,  2.8616e+00,  3.7371e+00, -1.9199e+01,  3.6288e+00,\n",
       "         -1.8689e+01,  7.0822e+00, -1.2484e+00, -2.6540e+01, -7.0366e+00,\n",
       "         -2.5776e+01,  8.9700e+00, -3.1867e+00, -6.7439e+00, -1.1228e+01,\n",
       "          9.6691e+00,  1.8323e+01, -7.6655e+00,  1.7250e+01,  8.7395e+00,\n",
       "         -4.0038e+01, -4.1060e+00],\n",
       "        [-1.8974e+01, -9.7537e+00, -7.7434e+00, -1.6042e+01,  2.2536e+01,\n",
       "          1.7897e+01,  4.2258e+00,  1.7931e+01, -1.7530e+01, -4.6017e+00,\n",
       "         -6.0895e-02, -1.0996e+01,  6.7788e+00,  1.3616e+00, -9.6229e+00,\n",
       "         -3.8782e+01,  1.5039e+01, -2.8855e+00,  2.2757e+01, -1.6960e+01,\n",
       "         -3.2653e+01,  1.3265e+01, -1.6771e+01,  4.0385e+00, -1.0447e+01,\n",
       "         -1.2175e+01, -4.1200e+00],\n",
       "        [-1.7646e+00, -2.6372e+01,  8.6973e+00, -7.9795e+00,  1.8953e+00,\n",
       "          7.8498e+00, -9.1608e+00, -1.0669e+01, -1.0122e+01, -4.7124e+00,\n",
       "          7.0436e+00,  1.1860e+01, -9.9633e+00, -1.5563e+01, -2.3308e+01,\n",
       "          3.3617e+01, -4.3464e+00, -6.7716e+00,  2.0314e+01,  5.5363e+00,\n",
       "          4.6768e+00,  1.0226e+01,  1.8915e+01,  8.3294e-01, -1.3100e+01,\n",
       "          4.0525e+01, -3.3478e+00],\n",
       "        [-7.2292e+00,  1.9160e+00,  3.2096e+00, -3.3846e+01,  9.2663e+00,\n",
       "         -1.6647e+01, -1.2371e+01,  2.1785e+01,  2.9844e+01, -2.6176e+01,\n",
       "          1.5625e+01, -2.9136e+00,  1.1891e+01, -1.1416e+01,  7.4538e+00,\n",
       "         -6.7065e+00,  3.7903e-02, -5.1359e+00,  6.4175e+00, -8.4623e+00,\n",
       "         -2.3759e+00, -1.7933e+01, -6.0090e-01,  3.7580e+01, -1.0603e+01,\n",
       "          9.3143e+00,  2.3331e+01],\n",
       "        [ 1.3243e+01,  1.5158e+01,  1.8106e+01,  6.5567e+00,  2.8933e+01,\n",
       "         -2.9779e+01, -1.3283e+01, -5.4683e+00,  2.5416e+01, -2.9753e+01,\n",
       "          3.1175e+00,  4.9598e+00,  1.2845e+01, -3.2694e+01,  3.5672e+01,\n",
       "          5.2572e+01,  1.6752e+01,  1.7260e+01, -6.6283e+00,  2.1063e+01,\n",
       "         -1.1042e+01,  4.0754e+00,  1.7313e+01,  1.9788e+01, -2.0945e+00,\n",
       "          6.1351e+01,  3.6448e+00],\n",
       "        [-2.1030e+00,  2.6210e+01,  1.3193e+01, -9.9994e+00,  2.7226e+01,\n",
       "         -1.9928e+01, -9.8637e+00,  8.7374e+00,  1.4403e+01, -2.7355e+01,\n",
       "          1.1730e+01, -7.1104e+00,  1.5162e+01, -1.1773e+01,  2.5989e+01,\n",
       "          3.0300e+01,  2.5361e+01,  2.2976e+01,  1.3302e+01,  1.6976e+01,\n",
       "         -3.3530e+01,  4.7607e+00,  1.7536e+00, -1.8455e-01, -1.1524e+01,\n",
       "          6.4443e+01,  2.6872e+00],\n",
       "        [-1.6285e+01,  1.4302e+01,  1.1966e+01, -2.2602e+01,  6.5326e+00,\n",
       "          1.3514e+00, -5.5704e+00,  5.3018e+00, -1.4145e+01, -1.6337e+01,\n",
       "          2.6462e+01, -1.1186e+01,  8.2074e+00,  9.9277e+00, -1.0406e+01,\n",
       "          3.3867e+01,  2.2252e+01,  1.6375e+01,  3.9247e+01,  1.7909e+01,\n",
       "         -3.7274e+01,  9.9845e+00,  5.7091e+00, -3.2077e+01, -2.4319e+01,\n",
       "          7.9620e+01, -2.2174e+00],\n",
       "        [-8.6983e+00,  1.1839e+00,  1.3227e+01, -4.5664e+01, -6.4187e+00,\n",
       "         -1.3174e+01, -2.4391e+01,  1.1640e+01,  2.4964e+01, -2.0460e+01,\n",
       "          2.7057e+01,  8.4072e+00, -8.8385e+00, -4.4152e+00, -1.6267e+01,\n",
       "          3.6149e+01, -8.1353e+00,  3.5560e+00,  3.3378e+01,  9.1468e+00,\n",
       "          8.8999e-01, -1.6141e+01,  1.0088e+01,  6.8972e+00, -2.6247e+01,\n",
       "          7.2043e+01,  1.7401e+01],\n",
       "        [ 1.3243e+01,  1.5158e+01,  1.8106e+01,  6.5567e+00,  2.8933e+01,\n",
       "         -2.9779e+01, -1.3283e+01, -5.4683e+00,  2.5416e+01, -2.9753e+01,\n",
       "          3.1175e+00,  4.9598e+00,  1.2845e+01, -3.2694e+01,  3.5672e+01,\n",
       "          5.2572e+01,  1.6752e+01,  1.7260e+01, -6.6283e+00,  2.1063e+01,\n",
       "         -1.1042e+01,  4.0754e+00,  1.7313e+01,  1.9788e+01, -2.0945e+00,\n",
       "          6.1351e+01,  3.6448e+00],\n",
       "        [ 8.4873e+00,  1.0361e+01,  1.4948e+01,  1.8328e+01,  1.8749e+01,\n",
       "         -1.5744e+01,  2.4823e+00, -9.3305e+00, -6.4835e+00, -2.5336e+01,\n",
       "          1.1511e+01, -8.8998e+00,  2.8015e+01, -1.9930e+01,  2.4024e+01,\n",
       "          4.6761e+01,  2.9854e+01,  1.3553e+01, -8.7587e+00,  2.3083e+01,\n",
       "         -1.3826e+01,  1.3357e+01,  2.1149e+01, -1.9819e+00,  1.6518e+00,\n",
       "          4.4437e+01,  1.5311e+00],\n",
       "        [ 6.4867e+00,  1.6456e+01,  8.9199e+00, -9.5644e-01,  1.5829e+01,\n",
       "         -1.2764e+01, -7.7418e+00,  1.2294e+01,  3.5921e+00, -1.9017e+01,\n",
       "          8.6573e+00, -3.5454e+00,  1.2913e+01, -1.4852e+01,  1.5000e+01,\n",
       "          1.9218e+01,  2.6142e+01,  2.5361e+01,  3.3067e+00,  1.7756e+01,\n",
       "         -7.9485e+00,  4.0608e+00, -3.4555e+00, -5.3166e+00, -2.7546e+00,\n",
       "          3.5895e+01,  8.7034e+00],\n",
       "        [-1.2001e+01, -1.1164e+00,  7.2494e+00, -2.7643e+01,  2.1331e+01,\n",
       "         -2.8250e+00, -1.5520e+01,  6.9073e+00,  1.2656e+01, -1.4002e+01,\n",
       "          5.6705e+00,  5.3696e+00, -8.8326e+00, -9.4035e+00, -3.0114e+00,\n",
       "          1.4538e+01,  9.6836e-01,  3.8263e+00,  3.2245e+01, -6.5785e-01,\n",
       "         -2.7656e+01,  4.3177e+00,  2.9136e-01,  9.0180e+00, -2.1363e+01,\n",
       "          5.4685e+01, -3.2723e+00],\n",
       "        [-1.9101e+01,  8.0640e+00,  1.1396e+01, -4.2630e+01,  6.2989e+00,\n",
       "         -8.7656e+00, -1.4923e+01,  1.0098e+01,  1.4596e+01, -2.3063e+01,\n",
       "          2.6894e+01, -4.0447e+00,  2.2686e+00,  3.9613e+00, -7.9599e+00,\n",
       "          2.7200e+01,  2.4716e+00,  1.4693e+00,  3.8375e+01,  4.8500e+00,\n",
       "         -2.9144e+01, -6.3646e+00,  8.4824e+00,  1.6893e+00, -2.8574e+01,\n",
       "          7.3106e+01,  7.6398e+00],\n",
       "        [-1.0835e+01, -7.6933e+00,  1.3947e+01, -2.1832e+01, -1.4362e+01,\n",
       "         -2.1625e+00, -3.5457e+00, -5.4246e+00, -1.0690e+01, -2.0018e+01,\n",
       "          3.6017e+01, -7.1413e+00,  1.4384e+01,  3.2837e+00, -2.1391e+01,\n",
       "          4.7746e+01,  6.1006e+00, -7.1095e+00,  2.2620e+01,  1.4440e+01,\n",
       "         -3.3047e+00, -1.9441e+00,  2.8910e+01, -1.0548e+01, -1.9211e+01,\n",
       "          5.9925e+01,  1.1422e+01],\n",
       "        [ 3.9620e+00, -1.7097e+01,  5.9929e+00,  1.6709e+00, -2.0511e+01,\n",
       "         -8.0310e-01,  7.6122e+00,  2.3840e-01, -1.9934e+01, -1.7560e+01,\n",
       "          2.8713e+01, -1.0967e+01,  3.0242e+01, -7.2621e+00, -1.5269e+01,\n",
       "          2.0988e+01,  1.4155e+01, -9.6854e+00, -1.2305e+01,  9.8777e+00,\n",
       "          2.9106e+01, -4.5781e+00,  2.3905e+01,  2.6953e+00,  3.2315e+00,\n",
       "         -7.2002e+00,  2.4292e+01],\n",
       "        [ 4.5233e+00, -2.8708e+01, -5.2367e+00,  1.6674e+01, -2.2130e+00,\n",
       "          1.5239e+01,  1.4152e+01,  3.6333e+00, -3.3191e+01, -3.9646e+00,\n",
       "          4.3752e+00, -8.5773e+00,  2.2970e+01, -1.3739e+01, -1.3981e+01,\n",
       "         -1.8135e+01,  1.7490e+01, -1.0144e+01, -1.6654e+01, -4.9544e+00,\n",
       "          2.1703e+01,  1.0301e+01,  5.4353e+00,  7.6178e+00,  1.1869e+01,\n",
       "         -5.0184e+01,  1.0920e+01],\n",
       "        [-4.4120e+00, -1.4185e+01, -7.6950e+00, -1.7520e+01,  2.3879e+01,\n",
       "          8.0818e+00, -1.0244e+01,  2.3417e+01,  7.3993e+00, -2.5085e+00,\n",
       "         -1.2721e+01,  7.4853e+00, -1.0289e+01, -1.7361e+01, -4.8866e+00,\n",
       "         -4.0243e+01,  1.7933e+00,  2.5260e+00,  1.2826e+01, -1.7876e+01,\n",
       "         -4.9277e+00,  3.0869e+00, -2.3537e+01,  2.4946e+01, -4.9487e+00,\n",
       "         -2.1101e+01,  3.5392e+00],\n",
       "        [ 1.3243e+01,  1.5158e+01,  1.8106e+01,  6.5567e+00,  2.8933e+01,\n",
       "         -2.9779e+01, -1.3283e+01, -5.4683e+00,  2.5416e+01, -2.9753e+01,\n",
       "          3.1175e+00,  4.9598e+00,  1.2845e+01, -3.2694e+01,  3.5672e+01,\n",
       "          5.2572e+01,  1.6752e+01,  1.7260e+01, -6.6283e+00,  2.1063e+01,\n",
       "         -1.1042e+01,  4.0754e+00,  1.7313e+01,  1.9788e+01, -2.0945e+00,\n",
       "          6.1351e+01,  3.6448e+00],\n",
       "        [ 1.0318e-01,  2.2004e+01,  1.3379e+01, -2.2401e+00,  2.4398e+01,\n",
       "         -1.7849e+01, -5.6750e+00,  4.0648e+00,  6.9197e+00, -2.6531e+01,\n",
       "          1.2314e+01, -8.5957e+00,  1.9429e+01, -1.2782e+01,  2.4629e+01,\n",
       "          3.3849e+01,  2.7444e+01,  2.0410e+01,  7.7927e+00,  1.8610e+01,\n",
       "         -2.8965e+01,  7.5485e+00,  6.7459e+00, -2.2719e+00, -8.0458e+00,\n",
       "          5.8310e+01,  2.2466e+00],\n",
       "        [ 8.4166e+00, -1.0376e+01,  1.4624e+01,  2.6172e+01, -3.0710e+00,\n",
       "          1.4248e+00,  9.8170e+00, -2.1060e+01, -3.5880e+01, -1.4282e+01,\n",
       "          1.9253e+01, -8.1696e+00,  2.5917e+01, -1.3082e+01, -5.0801e+00,\n",
       "          5.7844e+01,  2.6964e+01,  4.4261e+00, -5.5180e+00,  2.7308e+01,\n",
       "          4.5855e+00,  1.9929e+01,  3.3585e+01, -2.2927e+01,  1.9742e+00,\n",
       "          3.8960e+01, -4.1389e-01],\n",
       "        [-2.7332e+00,  9.2915e+00, -4.7201e+00, -5.1245e+00, -3.0556e+00,\n",
       "          4.5027e+00,  9.0205e+00,  3.0381e+01, -2.2240e+01, -1.3499e+01,\n",
       "          1.9645e+01, -2.2368e+01,  3.1730e+01,  4.6924e+00, -3.5199e+00,\n",
       "         -3.0108e+01,  3.5583e+01,  1.6031e+01, -3.3203e+00,  4.0492e+00,\n",
       "          2.4863e+00, -1.3913e+00, -1.7235e+01, -1.2905e+01,  4.0070e+00,\n",
       "         -2.7911e+01,  2.2972e+01],\n",
       "        [-1.6041e+01, -3.2486e+01, -2.9032e+00, -2.3587e+01,  1.1720e+01,\n",
       "          2.6477e+01, -9.8760e+00,  3.6789e+00, -1.6500e+01,  8.2151e+00,\n",
       "         -4.4545e+00,  1.2377e+01, -2.5682e+01, -5.4545e+00, -3.7312e+01,\n",
       "         -1.0988e+01, -8.8506e+00, -8.4989e+00,  4.1418e+01, -1.3559e+01,\n",
       "         -1.4297e+01,  1.5564e+01, -5.9878e+00, -1.5985e+00, -2.0629e+01,\n",
       "          1.9859e+01, -1.2711e+01],\n",
       "        [-6.2974e+00, -2.8718e+01,  5.9247e+00, -2.0951e+01, -3.6009e+00,\n",
       "         -3.7289e+00, -5.7674e+00, -3.6081e+00,  8.9381e+00, -1.8325e+01,\n",
       "          1.6927e+01,  3.4999e+00,  7.9001e+00, -1.5211e+01, -1.4309e+01,\n",
       "          1.7664e+01, -1.2698e+01, -2.7271e+01,  4.8732e+00, -8.7398e+00,\n",
       "          1.2768e+01, -8.4319e+00,  2.5781e+01,  3.6076e+01, -1.0116e+01,\n",
       "          9.2288e+00,  1.4780e+01],\n",
       "        [-4.4145e+00,  5.7121e+00,  3.9402e+00, -2.5325e+01,  1.4271e+01,\n",
       "         -1.3821e+01, -1.1849e+01,  1.9816e+01,  2.2492e+01, -2.2471e+01,\n",
       "          1.0738e+01, -1.9496e+00,  9.0423e+00, -1.2525e+01,  9.3242e+00,\n",
       "         -2.8626e+00,  6.8615e+00,  4.2645e+00,  8.3407e+00, -2.7109e+00,\n",
       "         -7.4763e+00, -9.9660e+00, -4.3090e+00,  2.5240e+01, -9.3477e+00,\n",
       "          1.7161e+01,  1.6560e+01]])"
      ]
     },
     "execution_count": 48,
     "metadata": {},
     "output_type": "execute_result"
    }
   ],
   "source": [
    "logits = h @ W2 + b2\n",
    "logits"
   ]
  },
  {
   "cell_type": "code",
   "execution_count": 49,
   "metadata": {},
   "outputs": [
    {
     "data": {
      "text/plain": [
       "torch.Size([32, 27])"
      ]
     },
     "execution_count": 49,
     "metadata": {},
     "output_type": "execute_result"
    }
   ],
   "source": [
    "logits.shape"
   ]
  },
  {
   "cell_type": "code",
   "execution_count": 50,
   "metadata": {},
   "outputs": [],
   "source": [
    "counts = logits.exp()"
   ]
  },
  {
   "cell_type": "code",
   "execution_count": 55,
   "metadata": {},
   "outputs": [],
   "source": [
    "prob = counts / counts.sum(1, keepdims=True)"
   ]
  },
  {
   "cell_type": "code",
   "execution_count": 56,
   "metadata": {},
   "outputs": [
    {
     "data": {
      "text/plain": [
       "torch.Size([32, 27])"
      ]
     },
     "execution_count": 56,
     "metadata": {},
     "output_type": "execute_result"
    }
   ],
   "source": [
    "prob.shape"
   ]
  },
  {
   "cell_type": "code",
   "execution_count": 57,
   "metadata": {},
   "outputs": [
    {
     "data": {
      "text/plain": [
       "tensor([2.6475e-40, 1.8929e-20, 2.2048e-12, 6.4177e-26, 5.5710e-21, 1.5387e-04,\n",
       "        2.6280e-04, 1.5678e-24, 4.4123e-13, 7.2238e-13, 8.8354e-30, 3.4618e-20,\n",
       "        8.6774e-21, 5.9476e-28, 4.2913e-29, 8.5967e-36, 2.7161e-40, 4.7413e-11,\n",
       "        3.6086e-09, 2.5047e-21, 2.7785e-36, 1.6674e-20, 6.4836e-01, 2.7954e-23,\n",
       "        1.1391e-13, 3.1832e-18, 2.3807e-11, 3.8831e-14, 7.5220e-26, 3.8030e-15,\n",
       "        7.2475e-29, 1.2370e-13])"
      ]
     },
     "execution_count": 57,
     "metadata": {},
     "output_type": "execute_result"
    }
   ],
   "source": [
    "prob[torch.arange(32), Y]"
   ]
  },
  {
   "cell_type": "code",
   "execution_count": 58,
   "metadata": {},
   "outputs": [
    {
     "data": {
      "text/plain": [
       "tensor(44.8578)"
      ]
     },
     "execution_count": 58,
     "metadata": {},
     "output_type": "execute_result"
    }
   ],
   "source": [
    "loss = -prob[torch.arange(32), Y].log().mean()\n",
    "loss"
   ]
  },
  {
   "cell_type": "markdown",
   "metadata": {},
   "source": [
    "# ------------ coupling and generalizing ------------"
   ]
  },
  {
   "cell_type": "code",
   "execution_count": 60,
   "metadata": {},
   "outputs": [
    {
     "data": {
      "text/plain": [
       "(torch.Size([32, 3]), torch.Size([32]))"
      ]
     },
     "execution_count": 60,
     "metadata": {},
     "output_type": "execute_result"
    }
   ],
   "source": [
    "X.shape, Y.shape # dataset"
   ]
  },
  {
   "cell_type": "code",
   "execution_count": 63,
   "metadata": {},
   "outputs": [],
   "source": [
    "g = torch.Generator().manual_seed(2147483647) # for reproducibility\n",
    "C = torch.randn((27, 2), generator=g)\n",
    "W1 = torch.randn((6, 100), generator=g)\n",
    "b1 = torch.randn(100, generator=g)\n",
    "W2 = torch.randn((100, 27), generator=g)\n",
    "b2 = torch.randn(27, generator=g)\n",
    "parameters = [C, W1, b1, W2, b2]"
   ]
  },
  {
   "cell_type": "code",
   "execution_count": 64,
   "metadata": {},
   "outputs": [
    {
     "data": {
      "text/plain": [
       "3481"
      ]
     },
     "execution_count": 64,
     "metadata": {},
     "output_type": "execute_result"
    }
   ],
   "source": [
    "sum(p.nelement() for p in parameters)"
   ]
  },
  {
   "cell_type": "code",
   "execution_count": 67,
   "metadata": {},
   "outputs": [
    {
     "data": {
      "text/plain": [
       "tensor(17.7697)"
      ]
     },
     "execution_count": 67,
     "metadata": {},
     "output_type": "execute_result"
    }
   ],
   "source": [
    "emb = C[X]  # (32, 3, 2)\n",
    "h = torch.tanh(emb.view(-1, 6) @ W1 + b1)   # (32, 100)\n",
    "logits = h @ W2 + b2    # (32, 27)\n",
    "# counts = logits.exp()\n",
    "# prob = counts / counts.sum(1, keepdim=True) \n",
    "# loss = -prob[torch.arange(32), Y].log().mean()\n",
    "# loss\n",
    "F.cross_entropy(logits, Y)"
   ]
  },
  {
   "cell_type": "code",
   "execution_count": null,
   "metadata": {},
   "outputs": [],
   "source": []
  },
  {
   "cell_type": "code",
   "execution_count": null,
   "metadata": {},
   "outputs": [],
   "source": []
  },
  {
   "cell_type": "code",
   "execution_count": null,
   "metadata": {},
   "outputs": [],
   "source": []
  },
  {
   "cell_type": "code",
   "execution_count": null,
   "metadata": {},
   "outputs": [],
   "source": []
  },
  {
   "cell_type": "code",
   "execution_count": null,
   "metadata": {},
   "outputs": [],
   "source": []
  },
  {
   "cell_type": "code",
   "execution_count": null,
   "metadata": {},
   "outputs": [],
   "source": []
  },
  {
   "cell_type": "code",
   "execution_count": null,
   "metadata": {},
   "outputs": [],
   "source": []
  },
  {
   "cell_type": "code",
   "execution_count": null,
   "metadata": {},
   "outputs": [],
   "source": []
  }
 ],
 "metadata": {
  "kernelspec": {
   "display_name": "Python 3",
   "language": "python",
   "name": "python3"
  },
  "language_info": {
   "codemirror_mode": {
    "name": "ipython",
    "version": 3
   },
   "file_extension": ".py",
   "mimetype": "text/x-python",
   "name": "python",
   "nbconvert_exporter": "python",
   "pygments_lexer": "ipython3",
   "version": "3.11.4"
  },
  "orig_nbformat": 4
 },
 "nbformat": 4,
 "nbformat_minor": 2
}
